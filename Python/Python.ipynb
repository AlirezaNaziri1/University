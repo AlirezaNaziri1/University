{
 "cells": [
  {
   "cell_type": "code",
   "execution_count": 2,
   "id": "7bbd84d1",
   "metadata": {},
   "outputs": [
    {
     "name": "stdout",
     "output_type": "stream",
     "text": [
      "Python\n"
     ]
    }
   ],
   "source": [
    "print(\"Python\")"
   ]
  },
  {
   "cell_type": "code",
   "execution_count": 3,
   "id": "0ecd6b30",
   "metadata": {
    "scrolled": true
   },
   "outputs": [
    {
     "ename": "NameError",
     "evalue": "name 'Python' is not defined",
     "output_type": "error",
     "traceback": [
      "\u001b[1;31m---------------------------------------------------------------------------\u001b[0m",
      "\u001b[1;31mNameError\u001b[0m                                 Traceback (most recent call last)",
      "Cell \u001b[1;32mIn [3], line 1\u001b[0m\n\u001b[1;32m----> 1\u001b[0m \u001b[38;5;28mprint\u001b[39m(\u001b[43mPython\u001b[49m)\n",
      "\u001b[1;31mNameError\u001b[0m: name 'Python' is not defined"
     ]
    }
   ],
   "source": [
    "print(\"Python\")"
   ]
  },
  {
   "cell_type": "code",
   "execution_count": 7,
   "id": "ed9e1cee",
   "metadata": {},
   "outputs": [
    {
     "name": "stdout",
     "output_type": "stream",
     "text": [
      "15\n"
     ]
    }
   ],
   "source": [
    "a = 10\n",
    "b = 20\n",
    "\n",
    "c = (a + b) / 2\n",
    "\n",
    "print(int(c))\n"
   ]
  },
  {
   "cell_type": "code",
   "execution_count": 8,
   "id": "fdfb99d3",
   "metadata": {},
   "outputs": [
    {
     "name": "stdout",
     "output_type": "stream",
     "text": [
      "11\n"
     ]
    }
   ],
   "source": [
    "a = 10\n",
    "c = a + 1 \n",
    "print(c)"
   ]
  },
  {
   "cell_type": "code",
   "execution_count": 16,
   "id": "36f54517",
   "metadata": {},
   "outputs": [],
   "source": [
    "def s(a):\n",
    "    print(a)\n",
    "    print(a)\n",
    "    "
   ]
  },
  {
   "cell_type": "code",
   "execution_count": 17,
   "id": "7bb9bd23",
   "metadata": {},
   "outputs": [
    {
     "name": "stdout",
     "output_type": "stream",
     "text": [
      "123\n",
      "123\n"
     ]
    }
   ],
   "source": [
    "s(123)"
   ]
  },
  {
   "cell_type": "code",
   "execution_count": 45,
   "id": "5d6aa259",
   "metadata": {},
   "outputs": [],
   "source": [
    "def miangin(a,b):\n",
    "    c = (a+b) / 2\n",
    "    return(int(c))"
   ]
  },
  {
   "cell_type": "code",
   "execution_count": 44,
   "id": "2724626a",
   "metadata": {},
   "outputs": [
    {
     "name": "stdout",
     "output_type": "stream",
     "text": [
      "32\n"
     ]
    }
   ],
   "source": [
    "miangin(12,52)"
   ]
  },
  {
   "cell_type": "code",
   "execution_count": 40,
   "id": "925bf8ed",
   "metadata": {},
   "outputs": [],
   "source": [
    "def miangin(a,b):\n",
    "    c = (a+b) / 2\n",
    "    return c"
   ]
  },
  {
   "cell_type": "code",
   "execution_count": 41,
   "id": "37d48be5",
   "metadata": {},
   "outputs": [
    {
     "data": {
      "text/plain": [
       "34.0"
      ]
     },
     "execution_count": 41,
     "metadata": {},
     "output_type": "execute_result"
    }
   ],
   "source": [
    "miangin(12,56)"
   ]
  },
  {
   "cell_type": "code",
   "execution_count": 56,
   "id": "7f28618c",
   "metadata": {},
   "outputs": [],
   "source": [
    "def darsad(a,b):\n",
    "    c = (a / b) * 100\n",
    "    return c"
   ]
  },
  {
   "cell_type": "code",
   "execution_count": 58,
   "id": "61f9aa67",
   "metadata": {},
   "outputs": [
    {
     "data": {
      "text/plain": [
       "25.0"
      ]
     },
     "execution_count": 58,
     "metadata": {},
     "output_type": "execute_result"
    }
   ],
   "source": [
    "darsad(25,100)"
   ]
  },
  {
   "cell_type": "code",
   "execution_count": null,
   "id": "fb3f36c0",
   "metadata": {},
   "outputs": [],
   "source": [
    "print(\"Alireza\")\n",
    "print(\"Naziri\")\n",
    "print(\"19\")"
   ]
  }
 ],
 "metadata": {
  "kernelspec": {
   "display_name": "Python 3 (ipykernel)",
   "language": "python",
   "name": "python3"
  },
  "language_info": {
   "codemirror_mode": {
    "name": "ipython",
    "version": 3
   },
   "file_extension": ".py",
   "mimetype": "text/x-python",
   "name": "python",
   "nbconvert_exporter": "python",
   "pygments_lexer": "ipython3",
   "version": "3.12.0"
  }
 },
 "nbformat": 4,
 "nbformat_minor": 5
}
