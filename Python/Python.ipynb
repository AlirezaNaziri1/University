{
 "cells": [
  {
   "cell_type": "code",
   "execution_count": 2,
   "id": "7bbd84d1",
   "metadata": {},
   "outputs": [
    {
     "name": "stdout",
     "output_type": "stream",
     "text": [
      "Python\n"
     ]
    }
   ],
   "source": [
    "print(\"Python\")"
   ]
  },
  {
   "cell_type": "code",
   "execution_count": 19,
   "id": "0ecd6b30",
   "metadata": {},
   "outputs": [
    {
     "name": "stdout",
     "output_type": "stream",
     "text": [
      "Python\n"
     ]
    }
   ],
   "source": [
    "print(\"Python\")"
   ]
  },
  {
   "cell_type": "code",
   "execution_count": 7,
   "id": "ed9e1cee",
   "metadata": {},
   "outputs": [
    {
     "name": "stdout",
     "output_type": "stream",
     "text": [
      "15\n"
     ]
    }
   ],
   "source": [
    "a = 10\n",
    "b = 20\n",
    "\n",
    "c = (a + b) / 2\n",
    "\n",
    "print(int(c))\n"
   ]
  },
  {
   "cell_type": "code",
   "execution_count": 8,
   "id": "fdfb99d3",
   "metadata": {},
   "outputs": [
    {
     "name": "stdout",
     "output_type": "stream",
     "text": [
      "11\n"
     ]
    }
   ],
   "source": [
    "a = 10\n",
    "c = a + 1 \n",
    "print(c)"
   ]
  },
  {
   "cell_type": "code",
   "execution_count": 16,
   "id": "36f54517",
   "metadata": {},
   "outputs": [],
   "source": [
    "def s(a):\n",
    "    print(a)\n",
    "    print(a)\n",
    "    "
   ]
  },
  {
   "cell_type": "code",
   "execution_count": 17,
   "id": "7bb9bd23",
   "metadata": {},
   "outputs": [
    {
     "name": "stdout",
     "output_type": "stream",
     "text": [
      "123\n",
      "123\n"
     ]
    }
   ],
   "source": [
    "s(123)"
   ]
  },
  {
   "cell_type": "code",
   "execution_count": null,
   "id": "818072b0-f9f8-4ffd-bcfe-5b5ef22e991a",
   "metadata": {},
   "outputs": [],
   "source": [
    "# Average - Miangin"
   ]
  },
  {
   "cell_type": "code",
   "execution_count": 45,
   "id": "5d6aa259",
   "metadata": {},
   "outputs": [],
   "source": [
    "def miangin(a,b):\n",
    "    c = (a+b) / 2\n",
    "    return(int(c))"
   ]
  },
  {
   "cell_type": "code",
   "execution_count": 44,
   "id": "2724626a",
   "metadata": {},
   "outputs": [
    {
     "name": "stdout",
     "output_type": "stream",
     "text": [
      "32\n"
     ]
    }
   ],
   "source": [
    "miangin(12,52)"
   ]
  },
  {
   "cell_type": "code",
   "execution_count": 40,
   "id": "925bf8ed",
   "metadata": {},
   "outputs": [],
   "source": [
    "def miangin(a,b):\n",
    "    c = (a+b) / 2\n",
    "    return c"
   ]
  },
  {
   "cell_type": "code",
   "execution_count": 41,
   "id": "37d48be5",
   "metadata": {},
   "outputs": [
    {
     "data": {
      "text/plain": [
       "34.0"
      ]
     },
     "execution_count": 41,
     "metadata": {},
     "output_type": "execute_result"
    }
   ],
   "source": [
    "miangin(12,56)"
   ]
  },
  {
   "cell_type": "code",
   "execution_count": null,
   "id": "5a578a3f-b47e-4ae4-b84d-a2c5cccff5d9",
   "metadata": {},
   "outputs": [],
   "source": [
    "# Darsad"
   ]
  },
  {
   "cell_type": "code",
   "execution_count": 17,
   "id": "7f28618c",
   "metadata": {},
   "outputs": [],
   "source": [
    "def darsad(a,b):\n",
    "    c = (a * b) / 100\n",
    "    return c"
   ]
  },
  {
   "cell_type": "code",
   "execution_count": 18,
   "id": "61f9aa67",
   "metadata": {},
   "outputs": [
    {
     "data": {
      "text/plain": [
       "125.0"
      ]
     },
     "execution_count": 18,
     "metadata": {},
     "output_type": "execute_result"
    }
   ],
   "source": [
    "darsad(25,500)"
   ]
  },
  {
   "cell_type": "code",
   "execution_count": null,
   "id": "14285117-f9f0-40f8-a2d8-7b646da905d7",
   "metadata": {},
   "outputs": [],
   "source": [
    "# Name Famil Age"
   ]
  },
  {
   "cell_type": "code",
   "execution_count": 2,
   "id": "fb3f36c0",
   "metadata": {},
   "outputs": [
    {
     "name": "stdout",
     "output_type": "stream",
     "text": [
      "Alireza\n",
      "Naziri\n",
      "19\n"
     ]
    }
   ],
   "source": [
    "print(\"Alireza\")\n",
    "print(\"Naziri\")\n",
    "print(\"19\")"
   ]
  },
  {
   "cell_type": "code",
   "execution_count": null,
   "id": "2952b186-47b1-41a9-b60e-10ab6e1eb778",
   "metadata": {},
   "outputs": [],
   "source": [
    "# Taghsim Zarb Jam Menha "
   ]
  },
  {
   "cell_type": "code",
   "execution_count": 3,
   "id": "d89dfde9-16fb-4739-80cd-95b8b4ad5472",
   "metadata": {},
   "outputs": [],
   "source": [
    "def Taghsim(a,b):\n",
    "    c = a / b\n",
    "    print(c)"
   ]
  },
  {
   "cell_type": "code",
   "execution_count": 4,
   "id": "0200fa58-c5f7-4c65-a1bd-f9f114635045",
   "metadata": {},
   "outputs": [
    {
     "name": "stdout",
     "output_type": "stream",
     "text": [
      "25.0\n"
     ]
    }
   ],
   "source": [
    "Taghsim(125,5)"
   ]
  },
  {
   "cell_type": "code",
   "execution_count": 5,
   "id": "1dc50dbf-db09-44be-9460-50c700cb6378",
   "metadata": {},
   "outputs": [],
   "source": [
    "def Zarb(a,b):\n",
    "    c = a * b\n",
    "    print(c)"
   ]
  },
  {
   "cell_type": "code",
   "execution_count": 6,
   "id": "3074a487-4267-4d8c-806a-74a9bf4cf298",
   "metadata": {},
   "outputs": [
    {
     "name": "stdout",
     "output_type": "stream",
     "text": [
      "120\n"
     ]
    }
   ],
   "source": [
    "Zarb(10,12)"
   ]
  },
  {
   "cell_type": "code",
   "execution_count": 7,
   "id": "74a86fae-5f01-4981-a03a-1462a1ab1369",
   "metadata": {},
   "outputs": [],
   "source": [
    "def Jam(a,b):\n",
    "    c = a + b\n",
    "    print(c)"
   ]
  },
  {
   "cell_type": "code",
   "execution_count": 8,
   "id": "49863869-2672-48c4-9c0b-54d94bcf3d44",
   "metadata": {},
   "outputs": [
    {
     "name": "stdout",
     "output_type": "stream",
     "text": [
      "8\n"
     ]
    }
   ],
   "source": [
    "Jam(2,6)"
   ]
  },
  {
   "cell_type": "code",
   "execution_count": 9,
   "id": "12bc8540-2de4-4e06-865f-5daa56102cfc",
   "metadata": {},
   "outputs": [],
   "source": [
    "def Menha(a,b):\n",
    "    c = a - b\n",
    "    print(c)"
   ]
  },
  {
   "cell_type": "code",
   "execution_count": 10,
   "id": "24ef5527-4647-4bf2-b1d9-c1f571a9f206",
   "metadata": {},
   "outputs": [
    {
     "name": "stdout",
     "output_type": "stream",
     "text": [
      "11\n"
     ]
    }
   ],
   "source": [
    "Menha(16,5)"
   ]
  },
  {
   "cell_type": "code",
   "execution_count": null,
   "id": "61321f1d-bbeb-4d33-9a33-cedbc3f5f2db",
   "metadata": {},
   "outputs": [],
   "source": []
  }
 ],
 "metadata": {
  "kernelspec": {
   "display_name": "Python 3 (ipykernel)",
   "language": "python",
   "name": "python3"
  },
  "language_info": {
   "codemirror_mode": {
    "name": "ipython",
    "version": 3
   },
   "file_extension": ".py",
   "mimetype": "text/x-python",
   "name": "python",
   "nbconvert_exporter": "python",
   "pygments_lexer": "ipython3",
   "version": "3.12.0"
  }
 },
 "nbformat": 4,
 "nbformat_minor": 5
}
