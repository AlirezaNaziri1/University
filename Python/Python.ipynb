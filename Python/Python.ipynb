{
 "cells": [
  {
   "cell_type": "code",
   "execution_count": 2,
   "id": "7bbd84d1",
   "metadata": {},
   "outputs": [
    {
     "name": "stdout",
     "output_type": "stream",
     "text": [
      "Python\n"
     ]
    }
   ],
   "source": [
    "print(\"Python\")"
   ]
  },
  {
   "cell_type": "code",
   "execution_count": 19,
   "id": "0ecd6b30",
   "metadata": {},
   "outputs": [
    {
     "name": "stdout",
     "output_type": "stream",
     "text": [
      "Python\n"
     ]
    }
   ],
   "source": [
    "print(\"Python\")"
   ]
  },
  {
   "cell_type": "code",
   "execution_count": 7,
   "id": "ed9e1cee",
   "metadata": {},
   "outputs": [
    {
     "name": "stdout",
     "output_type": "stream",
     "text": [
      "15\n"
     ]
    }
   ],
   "source": [
    "a = 10\n",
    "b = 20\n",
    "\n",
    "c = (a + b) / 2\n",
    "\n",
    "print(int(c))\n"
   ]
  },
  {
   "cell_type": "code",
   "execution_count": 8,
   "id": "fdfb99d3",
   "metadata": {},
   "outputs": [
    {
     "name": "stdout",
     "output_type": "stream",
     "text": [
      "11\n"
     ]
    }
   ],
   "source": [
    "a = 10\n",
    "c = a + 1 \n",
    "print(c)"
   ]
  },
  {
   "cell_type": "code",
   "execution_count": 16,
   "id": "36f54517",
   "metadata": {},
   "outputs": [],
   "source": [
    "def s(a):\n",
    "    print(a)\n",
    "    print(a)\n",
    "    "
   ]
  },
  {
   "cell_type": "code",
   "execution_count": 17,
   "id": "7bb9bd23",
   "metadata": {},
   "outputs": [
    {
     "name": "stdout",
     "output_type": "stream",
     "text": [
      "123\n",
      "123\n"
     ]
    }
   ],
   "source": [
    "s(123)"
   ]
  },
  {
   "cell_type": "code",
   "execution_count": null,
   "id": "818072b0-f9f8-4ffd-bcfe-5b5ef22e991a",
   "metadata": {},
   "outputs": [],
   "source": [
    "# Average - Miangin"
   ]
  },
  {
   "cell_type": "code",
   "execution_count": 45,
   "id": "5d6aa259",
   "metadata": {},
   "outputs": [],
   "source": [
    "def miangin(a,b):\n",
    "    c = (a+b) / 2\n",
    "    return(int(c))"
   ]
  },
  {
   "cell_type": "code",
   "execution_count": 44,
   "id": "2724626a",
   "metadata": {},
   "outputs": [
    {
     "name": "stdout",
     "output_type": "stream",
     "text": [
      "32\n"
     ]
    }
   ],
   "source": [
    "miangin(12,52)"
   ]
  },
  {
   "cell_type": "code",
   "execution_count": 40,
   "id": "925bf8ed",
   "metadata": {},
   "outputs": [],
   "source": [
    "def miangin(a,b):\n",
    "    c = (a+b) / 2\n",
    "    return c"
   ]
  },
  {
   "cell_type": "code",
   "execution_count": 41,
   "id": "37d48be5",
   "metadata": {},
   "outputs": [
    {
     "data": {
      "text/plain": [
       "34.0"
      ]
     },
     "execution_count": 41,
     "metadata": {},
     "output_type": "execute_result"
    }
   ],
   "source": [
    "miangin(12,56)"
   ]
  },
  {
   "cell_type": "code",
   "execution_count": null,
   "id": "5a578a3f-b47e-4ae4-b84d-a2c5cccff5d9",
   "metadata": {},
   "outputs": [],
   "source": [
    "# Darsad"
   ]
  },
  {
   "cell_type": "code",
   "execution_count": 17,
   "id": "7f28618c",
   "metadata": {},
   "outputs": [],
   "source": [
    "def darsad(a,b):\n",
    "    c = (a * b) / 100\n",
    "    return c"
   ]
  },
  {
   "cell_type": "code",
   "execution_count": 18,
   "id": "61f9aa67",
   "metadata": {},
   "outputs": [
    {
     "data": {
      "text/plain": [
       "125.0"
      ]
     },
     "execution_count": 18,
     "metadata": {},
     "output_type": "execute_result"
    }
   ],
   "source": [
    "darsad(25,500)"
   ]
  },
  {
   "cell_type": "code",
   "execution_count": null,
   "id": "14285117-f9f0-40f8-a2d8-7b646da905d7",
   "metadata": {},
   "outputs": [],
   "source": [
    "# Name Famil Age"
   ]
  },
  {
   "cell_type": "code",
   "execution_count": 2,
   "id": "fb3f36c0",
   "metadata": {},
   "outputs": [
    {
     "name": "stdout",
     "output_type": "stream",
     "text": [
      "Alireza\n",
      "Naziri\n",
      "19\n"
     ]
    }
   ],
   "source": [
    "print(\"Alireza\")\n",
    "print(\"Naziri\")\n",
    "print(\"19\")"
   ]
  },
  {
   "cell_type": "code",
   "execution_count": null,
   "id": "2952b186-47b1-41a9-b60e-10ab6e1eb778",
   "metadata": {},
   "outputs": [],
   "source": [
    "# Taghsim Zarb Jam Menha "
   ]
  },
  {
   "cell_type": "code",
   "execution_count": 3,
   "id": "d89dfde9-16fb-4739-80cd-95b8b4ad5472",
   "metadata": {},
   "outputs": [],
   "source": [
    "def Taghsim(a,b):\n",
    "    c = a / b\n",
    "    print(c)"
   ]
  },
  {
   "cell_type": "code",
   "execution_count": 4,
   "id": "0200fa58-c5f7-4c65-a1bd-f9f114635045",
   "metadata": {},
   "outputs": [
    {
     "name": "stdout",
     "output_type": "stream",
     "text": [
      "25.0\n"
     ]
    }
   ],
   "source": [
    "Taghsim(125,5)"
   ]
  },
  {
   "cell_type": "code",
   "execution_count": 5,
   "id": "1dc50dbf-db09-44be-9460-50c700cb6378",
   "metadata": {},
   "outputs": [],
   "source": [
    "def Zarb(a,b):\n",
    "    c = a * b\n",
    "    print(c)"
   ]
  },
  {
   "cell_type": "code",
   "execution_count": 6,
   "id": "3074a487-4267-4d8c-806a-74a9bf4cf298",
   "metadata": {},
   "outputs": [
    {
     "name": "stdout",
     "output_type": "stream",
     "text": [
      "120\n"
     ]
    }
   ],
   "source": [
    "Zarb(10,12)"
   ]
  },
  {
   "cell_type": "code",
   "execution_count": 7,
   "id": "74a86fae-5f01-4981-a03a-1462a1ab1369",
   "metadata": {},
   "outputs": [],
   "source": [
    "def Jam(a,b):\n",
    "    c = a + b\n",
    "    print(c)"
   ]
  },
  {
   "cell_type": "code",
   "execution_count": 8,
   "id": "49863869-2672-48c4-9c0b-54d94bcf3d44",
   "metadata": {},
   "outputs": [
    {
     "name": "stdout",
     "output_type": "stream",
     "text": [
      "8\n"
     ]
    }
   ],
   "source": [
    "Jam(2,6)"
   ]
  },
  {
   "cell_type": "code",
   "execution_count": 9,
   "id": "12bc8540-2de4-4e06-865f-5daa56102cfc",
   "metadata": {},
   "outputs": [],
   "source": [
    "def Menha(a,b):\n",
    "    c = a - b\n",
    "    print(c)"
   ]
  },
  {
   "cell_type": "code",
   "execution_count": 10,
   "id": "24ef5527-4647-4bf2-b1d9-c1f571a9f206",
   "metadata": {},
   "outputs": [
    {
     "name": "stdout",
     "output_type": "stream",
     "text": [
      "11\n"
     ]
    }
   ],
   "source": [
    "Menha(16,5)"
   ]
  },
  {
   "cell_type": "code",
   "execution_count": 2,
   "id": "61321f1d-bbeb-4d33-9a33-cedbc3f5f2db",
   "metadata": {},
   "outputs": [],
   "source": [
    "# Tamrin 3"
   ]
  },
  {
   "cell_type": "code",
   "execution_count": 3,
   "id": "c3166a40-9593-4543-ae4e-c0c76ca6134f",
   "metadata": {},
   "outputs": [
    {
     "name": "stdout",
     "output_type": "stream",
     "text": [
      "Alireza\n",
      "Naziri\n",
      "19\n"
     ]
    }
   ],
   "source": [
    "def a(c,d,e):\n",
    "    return print(c+\"\\n\"+d+\"\\n\"+e)\n",
    "a(\"Alireza\",\"Naziri\",\"19\")"
   ]
  },
  {
   "cell_type": "code",
   "execution_count": null,
   "id": "c8820123-2936-424f-9678-5ee341f41905",
   "metadata": {},
   "outputs": [],
   "source": [
    "#*****************************************************"
   ]
  },
  {
   "cell_type": "code",
   "execution_count": 9,
   "id": "3e128ac4-b3f6-45fe-a831-ecb8c6c835eb",
   "metadata": {},
   "outputs": [
    {
     "name": "stdout",
     "output_type": "stream",
     "text": [
      "-0.4\n"
     ]
    }
   ],
   "source": [
    "def R(a,b,c):\n",
    "    d=-1/a\n",
    "    e=b-c\n",
    "    f=e*d\n",
    "    return print(f)\n",
    "win(10,30,26)"
   ]
  },
  {
   "cell_type": "code",
   "execution_count": null,
   "id": "c9ca5282-2364-4981-a763-a999ca15235e",
   "metadata": {},
   "outputs": [],
   "source": [
    "#****************************************************"
   ]
  },
  {
   "cell_type": "code",
   "execution_count": 11,
   "id": "49b2b2c9-1e7c-4ee8-8044-dd9feb1022a2",
   "metadata": {},
   "outputs": [
    {
     "name": "stdout",
     "output_type": "stream",
     "text": [
      "2\n"
     ]
    }
   ],
   "source": [
    "def Baghimandeh(a,b):\n",
    "    c = a % b\n",
    "    return print(c)\n",
    "Baghimandeh(50,6)"
   ]
  },
  {
   "cell_type": "code",
   "execution_count": null,
   "id": "019b43bc-690c-48a4-b9c2-6f4bbad050b1",
   "metadata": {},
   "outputs": [],
   "source": [
    "#****************************************************"
   ]
  },
  {
   "cell_type": "code",
   "execution_count": 13,
   "id": "0b54d630-68f6-4230-90f6-563d29cf3afd",
   "metadata": {},
   "outputs": [
    {
     "name": "stdout",
     "output_type": "stream",
     "text": [
      "9.0\n"
     ]
    }
   ],
   "source": [
    "import math as Riazi\n",
    "x = Riazi.sqrt(81)\n",
    "print(x)"
   ]
  },
  {
   "cell_type": "code",
   "execution_count": 14,
   "id": "4b632e79-d01d-4a42-b453-c4fbb0feef7b",
   "metadata": {},
   "outputs": [],
   "source": [
    "#****************************************************"
   ]
  },
  {
   "cell_type": "code",
   "execution_count": 19,
   "id": "15d37726-bc1d-49ad-b492-0c170ad08279",
   "metadata": {},
   "outputs": [
    {
     "name": "stdout",
     "output_type": "stream",
     "text": [
      "Ali\n",
      "False\n"
     ]
    }
   ],
   "source": [
    "First ='Ali' or 10\n",
    "Second = 'First'==10\n",
    "print(First)\n",
    "print(Second)"
   ]
  },
  {
   "cell_type": "code",
   "execution_count": 20,
   "id": "dee1d4ee-baf2-478e-bf39-86c1ace16126",
   "metadata": {},
   "outputs": [],
   "source": [
    "#***************************************************"
   ]
  },
  {
   "cell_type": "code",
   "execution_count": 30,
   "id": "c2307c66-6d65-4beb-91c8-0eb1c934a00b",
   "metadata": {},
   "outputs": [
    {
     "name": "stdout",
     "output_type": "stream",
     "text": [
      "18\n",
      "F\n",
      "A\n",
      "L\n",
      "S\n",
      "E\n",
      "3\n",
      "\n",
      "******\n",
      "15\n",
      "\n",
      "15\n",
      "F\n",
      "A\n",
      "L\n",
      "S\n",
      "E\n",
      "3\n",
      "\n",
      "******\n",
      "12\n",
      "\n",
      "12\n",
      "F\n",
      "A\n",
      "L\n",
      "S\n",
      "E\n",
      "3\n",
      "\n",
      "******\n",
      "9\n",
      "\n",
      "9\n",
      "F\n",
      "A\n",
      "L\n",
      "S\n",
      "E\n",
      "3\n",
      "\n",
      "******\n",
      "6\n",
      "\n",
      "6\n",
      "F\n",
      "A\n",
      "L\n",
      "S\n",
      "E\n",
      "3\n",
      "\n",
      "******\n",
      "3\n",
      "\n",
      "3\n",
      "F\n",
      "A\n",
      "L\n",
      "S\n",
      "E\n",
      "3\n",
      "\n",
      "******\n",
      "0\n",
      "\n",
      "T\n",
      "R\n",
      "U\n",
      "E\n",
      "\n",
      "******\n"
     ]
    }
   ],
   "source": [
    "def T(a,b):\n",
    "   \n",
    "    if(a==0):\n",
    "        print(\"T\")\n",
    "        print(\"R\")\n",
    "        print(\"U\")\n",
    "        print(\"E\")\n",
    "        print(\"\\n******\")\n",
    "        \n",
    "    else:\n",
    "        print(a)\n",
    "        print(\"F\")\n",
    "        print(\"A\")\n",
    "        print(\"L\")\n",
    "        print(\"S\")\n",
    "        print(\"E\")\n",
    "        print(b)\n",
    "        print(\"\\n******\")\n",
    "        print(a-b)\n",
    "        print(\"\")\n",
    "        \n",
    "        \n",
    "        T(a-b,b)\n",
    "T(18,3)"
   ]
  },
  {
   "cell_type": "code",
   "execution_count": null,
   "id": "1d53f0c5-01a1-4de0-9469-977a98d8f500",
   "metadata": {},
   "outputs": [],
   "source": []
  },
  {
   "cell_type": "code",
   "execution_count": null,
   "id": "07d1c1d4-4ae1-4022-bce0-17e774980f57",
   "metadata": {},
   "outputs": [],
   "source": []
  }
 ],
 "metadata": {
  "kernelspec": {
   "display_name": "Python 3 (ipykernel)",
   "language": "python",
   "name": "python3"
  },
  "language_info": {
   "codemirror_mode": {
    "name": "ipython",
    "version": 3
   },
   "file_extension": ".py",
   "mimetype": "text/x-python",
   "name": "python",
   "nbconvert_exporter": "python",
   "pygments_lexer": "ipython3",
   "version": "3.12.0"
  }
 },
 "nbformat": 4,
 "nbformat_minor": 5
}
