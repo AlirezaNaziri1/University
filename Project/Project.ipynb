{
 "cells": [
  {
   "cell_type": "code",
   "execution_count": 10,
   "id": "00029a38-9161-4996-99bb-d03fec4a00e9",
   "metadata": {},
   "outputs": [
    {
     "name": "stdout",
     "output_type": "stream",
     "text": [
      "Welcome to the password Generator!\n"
     ]
    },
    {
     "name": "stdin",
     "output_type": "stream",
     "text": [
      "How many letters would you like in your password?\n",
      " 3\n",
      "How many symbols would you like?\n",
      " 2\n",
      "How many numbers would you like?\n",
      " 5\n"
     ]
    },
    {
     "name": "stdout",
     "output_type": "stream",
     "text": [
      "Your random passwordis: $41!87GNA1\n"
     ]
    }
   ],
   "source": [
    "import random\n",
    "\n",
    "# اضافه کردن کتابخانه رندوم برای استفاده از توابع ان\n",
    "\n",
    "letters = [\n",
    "    'a', 'b', 'c', 'd', 'e', 'f', 'g', 'h', 'i', 'j', 'k', 'l', 'm', 'n', 'o',\n",
    "    'p', 'q', 'r', 's', 't', 'u', 'v', 'w', 'x', 'y', 'z', 'A', 'B', 'C', 'D',\n",
    "    'E', 'F', 'G', 'H', 'I', 'J', 'K', 'L', 'M', 'N', 'O', 'P', 'Q', 'R', 'S',\n",
    "    'T', 'U', 'V', 'W', 'X', 'Y', 'Z'\n",
    "]\n",
    "numbers = ['0', '1', '2', '3', '4', '5', '6', '7', '8', '9']\n",
    "symbols = ['!', '#', '$', '%', '&', '(', ')', '*', '+']\n",
    "\n",
    "# تعداد حالت های مختلف حروف, اعداد و نشانه \n",
    "\n",
    "print(\"Welcome to the password Generator!\")\n",
    "\n",
    "num_letters = int(input(\"How many letters would you like in your password?\\n\"))\n",
    "num_symbols = int(input(f\"How many symbols would you like?\\n\"))\n",
    "num_numbers = int(input(f\"How many numbers would you like?\\n\"))\n",
    "\n",
    "# با استفاده از تابع اینپوت تعداد کاراکتر های هر نوع را از کاربر دریافت میکنیم\n",
    "# با استفاده از تابع اینت ورودی کاربر را به صورت اینتیجر دریافت میکنیم\n",
    "# بک اسلش ان برای رفتن به خط بعدی \n",
    "\n",
    "password_list = []\n",
    "\n",
    "# تعریف یک لیست برای ذخیره کاراکتر های رندوم\n",
    "\n",
    "for char in range(1, num_letters +1):\n",
    "    password_list.append(random.choice(letters))\n",
    "\n",
    "for char in range(1, num_symbols +1):\n",
    "    password_list.append(random.choice(symbols))\n",
    "\n",
    "for char in range(1, num_numbers +1):\n",
    "    password_list.append(random.choice(numbers))\n",
    "\n",
    "# برای انتخاب تصادفی از بین لیست های تعریف شده بالا از سه حلقه فور برای هر کدام از انواع کاراکتر استفاده میکنیم در این از تابع چویس کتابخونه رندوم استفاده میکنم تا =>\n",
    "#  از بین لیست های یالا به طور تصادفی انتخاب کند و برای اضافه کردن کاراکتر های انتخاب شده به لیست از اپند استفاده میکنیم \n",
    "#  NOTE: باید در حلقه فور به عدد ها یک واحد اضافه کنیم در غیر این صورت مثلا اگر پسورد به طول 6 انتخاب کنیم فقط 3 عدد کاراکتر تولید میشود\n",
    "\n",
    "random.shuffle(password_list)\n",
    "\n",
    "# اینجا هم یکی از توابع دیگر را استفاده میکنیم که کارش به هم ریختن ترتیب کاراکتر هاست\n",
    "\n",
    "final_password = ''.join(password_list)\n",
    "# برای تبدیل لیست به استرینگ برای پرینت کردن از متد جوین استفاده میکنیم\n",
    "print(f\"Your random passwordis: {final_password}\")\n",
    "# در نهایت برای چاپ از فرمتند استرینک استفاده میکنیم تا بتوان درون پرینت پسورد را چاپ کنیم\n",
    "\n",
    "\n",
    "\n",
    "\n",
    "# Ba komak az: Stackoverflow geeksforgeek youtube"
   ]
  },
  {
   "cell_type": "code",
   "execution_count": null,
   "id": "e3210add-3785-49d1-97af-1f9a5b689bf1",
   "metadata": {},
   "outputs": [],
   "source": []
  }
 ],
 "metadata": {
  "kernelspec": {
   "display_name": "Python 3 (ipykernel)",
   "language": "python",
   "name": "python3"
  },
  "language_info": {
   "codemirror_mode": {
    "name": "ipython",
    "version": 3
   },
   "file_extension": ".py",
   "mimetype": "text/x-python",
   "name": "python",
   "nbconvert_exporter": "python",
   "pygments_lexer": "ipython3",
   "version": "3.12.0"
  }
 },
 "nbformat": 4,
 "nbformat_minor": 5
}
